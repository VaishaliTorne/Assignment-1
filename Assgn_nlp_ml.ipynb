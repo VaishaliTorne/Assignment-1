{
 "cells": [
  {
   "cell_type": "code",
   "execution_count": 1,
   "id": "bd07a301",
   "metadata": {
    "_cell_guid": "b1076dfc-b9ad-4769-8c92-a6c4dae69d19",
    "_uuid": "8f2839f25d086af736a60e9eeb907d3b93b6e0e5",
    "execution": {
     "iopub.execute_input": "2024-08-07T07:08:17.972568Z",
     "iopub.status.busy": "2024-08-07T07:08:17.972168Z",
     "iopub.status.idle": "2024-08-07T07:08:25.215777Z",
     "shell.execute_reply": "2024-08-07T07:08:25.214876Z"
    },
    "papermill": {
     "duration": 7.253888,
     "end_time": "2024-08-07T07:08:25.218128",
     "exception": false,
     "start_time": "2024-08-07T07:08:17.964240",
     "status": "completed"
    },
    "tags": []
   },
   "outputs": [],
   "source": [
    "import numpy as np \n",
    "import pandas as pd \n",
    "import spacy\n",
    "from sklearn.pipeline import Pipeline\n",
    "from sklearn.feature_extraction.text import CountVectorizer\n",
    "from sklearn.ensemble import RandomForestClassifier\n",
    "from sklearn.model_selection import train_test_split \n",
    "from sklearn.metrics import classification_report\n",
    "from sklearn.feature_extraction.text import TfidfVectorizer"
   ]
  },
  {
   "cell_type": "code",
   "execution_count": 2,
   "id": "c9759cce",
   "metadata": {
    "execution": {
     "iopub.execute_input": "2024-08-07T07:08:25.231575Z",
     "iopub.status.busy": "2024-08-07T07:08:25.230984Z",
     "iopub.status.idle": "2024-08-07T07:08:25.307466Z",
     "shell.execute_reply": "2024-08-07T07:08:25.306398Z"
    },
    "papermill": {
     "duration": 0.085707,
     "end_time": "2024-08-07T07:08:25.309744",
     "exception": false,
     "start_time": "2024-08-07T07:08:25.224037",
     "status": "completed"
    },
    "tags": []
   },
   "outputs": [
    {
     "data": {
      "text/html": [
       "<div>\n",
       "<style scoped>\n",
       "    .dataframe tbody tr th:only-of-type {\n",
       "        vertical-align: middle;\n",
       "    }\n",
       "\n",
       "    .dataframe tbody tr th {\n",
       "        vertical-align: top;\n",
       "    }\n",
       "\n",
       "    .dataframe thead th {\n",
       "        text-align: right;\n",
       "    }\n",
       "</style>\n",
       "<table border=\"1\" class=\"dataframe\">\n",
       "  <thead>\n",
       "    <tr style=\"text-align: right;\">\n",
       "      <th></th>\n",
       "      <th>text</th>\n",
       "      <th>emotion</th>\n",
       "    </tr>\n",
       "  </thead>\n",
       "  <tbody>\n",
       "    <tr>\n",
       "      <th>0</th>\n",
       "      <td>i didnt feel humiliated</td>\n",
       "      <td>sadness</td>\n",
       "    </tr>\n",
       "    <tr>\n",
       "      <th>1</th>\n",
       "      <td>i can go from feeling so hopeless to so damned...</td>\n",
       "      <td>sadness</td>\n",
       "    </tr>\n",
       "    <tr>\n",
       "      <th>2</th>\n",
       "      <td>im grabbing a minute to post i feel greedy wrong</td>\n",
       "      <td>anger</td>\n",
       "    </tr>\n",
       "    <tr>\n",
       "      <th>3</th>\n",
       "      <td>i am ever feeling nostalgic about the fireplac...</td>\n",
       "      <td>love</td>\n",
       "    </tr>\n",
       "    <tr>\n",
       "      <th>4</th>\n",
       "      <td>i am feeling grouchy</td>\n",
       "      <td>anger</td>\n",
       "    </tr>\n",
       "  </tbody>\n",
       "</table>\n",
       "</div>"
      ],
      "text/plain": [
       "                                                text  emotion\n",
       "0                            i didnt feel humiliated  sadness\n",
       "1  i can go from feeling so hopeless to so damned...  sadness\n",
       "2   im grabbing a minute to post i feel greedy wrong    anger\n",
       "3  i am ever feeling nostalgic about the fireplac...     love\n",
       "4                               i am feeling grouchy    anger"
      ]
     },
     "execution_count": 2,
     "metadata": {},
     "output_type": "execute_result"
    }
   ],
   "source": [
    "df = pd.read_csv('/kaggle/input/emotions-dataset-for-nlp/train.txt', sep = ';', header=None)\n",
    "df.columns = ['text', 'emotion']\n",
    "df.head()"
   ]
  },
  {
   "cell_type": "code",
   "execution_count": 3,
   "id": "fe121a42",
   "metadata": {
    "execution": {
     "iopub.execute_input": "2024-08-07T07:08:25.323582Z",
     "iopub.status.busy": "2024-08-07T07:08:25.323192Z",
     "iopub.status.idle": "2024-08-07T07:08:25.336187Z",
     "shell.execute_reply": "2024-08-07T07:08:25.335180Z"
    },
    "papermill": {
     "duration": 0.022347,
     "end_time": "2024-08-07T07:08:25.338343",
     "exception": false,
     "start_time": "2024-08-07T07:08:25.315996",
     "status": "completed"
    },
    "tags": []
   },
   "outputs": [
    {
     "data": {
      "text/plain": [
       "emotion\n",
       "joy         5362\n",
       "sadness     4666\n",
       "anger       2159\n",
       "fear        1937\n",
       "love        1304\n",
       "surprise     572\n",
       "Name: count, dtype: int64"
      ]
     },
     "execution_count": 3,
     "metadata": {},
     "output_type": "execute_result"
    }
   ],
   "source": [
    "df.emotion.value_counts()"
   ]
  },
  {
   "cell_type": "code",
   "execution_count": 4,
   "id": "9e275629",
   "metadata": {
    "execution": {
     "iopub.execute_input": "2024-08-07T07:08:25.352636Z",
     "iopub.status.busy": "2024-08-07T07:08:25.352215Z",
     "iopub.status.idle": "2024-08-07T07:08:25.368887Z",
     "shell.execute_reply": "2024-08-07T07:08:25.367897Z"
    },
    "papermill": {
     "duration": 0.026243,
     "end_time": "2024-08-07T07:08:25.371045",
     "exception": false,
     "start_time": "2024-08-07T07:08:25.344802",
     "status": "completed"
    },
    "tags": []
   },
   "outputs": [
    {
     "data": {
      "text/html": [
       "<div>\n",
       "<style scoped>\n",
       "    .dataframe tbody tr th:only-of-type {\n",
       "        vertical-align: middle;\n",
       "    }\n",
       "\n",
       "    .dataframe tbody tr th {\n",
       "        vertical-align: top;\n",
       "    }\n",
       "\n",
       "    .dataframe thead th {\n",
       "        text-align: right;\n",
       "    }\n",
       "</style>\n",
       "<table border=\"1\" class=\"dataframe\">\n",
       "  <thead>\n",
       "    <tr style=\"text-align: right;\">\n",
       "      <th></th>\n",
       "      <th>text</th>\n",
       "      <th>emotion</th>\n",
       "      <th>sentiment</th>\n",
       "    </tr>\n",
       "  </thead>\n",
       "  <tbody>\n",
       "    <tr>\n",
       "      <th>0</th>\n",
       "      <td>i didnt feel humiliated</td>\n",
       "      <td>sadness</td>\n",
       "      <td>2</td>\n",
       "    </tr>\n",
       "    <tr>\n",
       "      <th>1</th>\n",
       "      <td>i can go from feeling so hopeless to so damned...</td>\n",
       "      <td>sadness</td>\n",
       "      <td>2</td>\n",
       "    </tr>\n",
       "    <tr>\n",
       "      <th>2</th>\n",
       "      <td>im grabbing a minute to post i feel greedy wrong</td>\n",
       "      <td>anger</td>\n",
       "      <td>3</td>\n",
       "    </tr>\n",
       "    <tr>\n",
       "      <th>3</th>\n",
       "      <td>i am ever feeling nostalgic about the fireplac...</td>\n",
       "      <td>love</td>\n",
       "      <td>5</td>\n",
       "    </tr>\n",
       "    <tr>\n",
       "      <th>4</th>\n",
       "      <td>i am feeling grouchy</td>\n",
       "      <td>anger</td>\n",
       "      <td>3</td>\n",
       "    </tr>\n",
       "  </tbody>\n",
       "</table>\n",
       "</div>"
      ],
      "text/plain": [
       "                                                text  emotion  sentiment\n",
       "0                            i didnt feel humiliated  sadness          2\n",
       "1  i can go from feeling so hopeless to so damned...  sadness          2\n",
       "2   im grabbing a minute to post i feel greedy wrong    anger          3\n",
       "3  i am ever feeling nostalgic about the fireplac...     love          5\n",
       "4                               i am feeling grouchy    anger          3"
      ]
     },
     "execution_count": 4,
     "metadata": {},
     "output_type": "execute_result"
    }
   ],
   "source": [
    "df['sentiment'] = df.emotion.map({'joy':1, 'sadness':2, 'anger':3, 'fear':4, 'love':5, 'surprise':6})\n",
    "df.head()"
   ]
  },
  {
   "cell_type": "markdown",
   "id": "d053e0e2",
   "metadata": {
    "papermill": {
     "duration": 0.005821,
     "end_time": "2024-08-07T07:08:25.383192",
     "exception": false,
     "start_time": "2024-08-07T07:08:25.377371",
     "status": "completed"
    },
    "tags": []
   },
   "source": [
    "## Preprocessing "
   ]
  },
  {
   "cell_type": "code",
   "execution_count": 5,
   "id": "76a3a7f8",
   "metadata": {
    "execution": {
     "iopub.execute_input": "2024-08-07T07:08:25.396962Z",
     "iopub.status.busy": "2024-08-07T07:08:25.396595Z",
     "iopub.status.idle": "2024-08-07T07:08:26.545137Z",
     "shell.execute_reply": "2024-08-07T07:08:26.543992Z"
    },
    "papermill": {
     "duration": 1.158463,
     "end_time": "2024-08-07T07:08:26.547659",
     "exception": false,
     "start_time": "2024-08-07T07:08:25.389196",
     "status": "completed"
    },
    "tags": []
   },
   "outputs": [],
   "source": [
    "nlp = spacy.load('en_core_web_sm')\n",
    "\n",
    "def preprocess(text):\n",
    "    doc = nlp(text)\n",
    "    filtered_tokens = []\n",
    "    for token in doc:\n",
    "        if token.is_stop or token.is_punct:\n",
    "            continue\n",
    "        filtered_tokens.append(token.lemma_)\n",
    "    return \" \".join(filtered_tokens)"
   ]
  },
  {
   "cell_type": "code",
   "execution_count": 6,
   "id": "f8bf25c3",
   "metadata": {
    "execution": {
     "iopub.execute_input": "2024-08-07T07:08:26.562262Z",
     "iopub.status.busy": "2024-08-07T07:08:26.561372Z",
     "iopub.status.idle": "2024-08-07T07:10:38.601794Z",
     "shell.execute_reply": "2024-08-07T07:10:38.600706Z"
    },
    "papermill": {
     "duration": 132.057116,
     "end_time": "2024-08-07T07:10:38.611017",
     "exception": false,
     "start_time": "2024-08-07T07:08:26.553901",
     "status": "completed"
    },
    "tags": []
   },
   "outputs": [
    {
     "data": {
      "text/html": [
       "<div>\n",
       "<style scoped>\n",
       "    .dataframe tbody tr th:only-of-type {\n",
       "        vertical-align: middle;\n",
       "    }\n",
       "\n",
       "    .dataframe tbody tr th {\n",
       "        vertical-align: top;\n",
       "    }\n",
       "\n",
       "    .dataframe thead th {\n",
       "        text-align: right;\n",
       "    }\n",
       "</style>\n",
       "<table border=\"1\" class=\"dataframe\">\n",
       "  <thead>\n",
       "    <tr style=\"text-align: right;\">\n",
       "      <th></th>\n",
       "      <th>text</th>\n",
       "      <th>emotion</th>\n",
       "      <th>sentiment</th>\n",
       "      <th>preprocessed_text</th>\n",
       "    </tr>\n",
       "  </thead>\n",
       "  <tbody>\n",
       "    <tr>\n",
       "      <th>0</th>\n",
       "      <td>i didnt feel humiliated</td>\n",
       "      <td>sadness</td>\n",
       "      <td>2</td>\n",
       "      <td>not feel humiliate</td>\n",
       "    </tr>\n",
       "    <tr>\n",
       "      <th>1</th>\n",
       "      <td>i can go from feeling so hopeless to so damned...</td>\n",
       "      <td>sadness</td>\n",
       "      <td>2</td>\n",
       "      <td>feel hopeless damned hopeful care awake</td>\n",
       "    </tr>\n",
       "    <tr>\n",
       "      <th>2</th>\n",
       "      <td>im grabbing a minute to post i feel greedy wrong</td>\n",
       "      <td>anger</td>\n",
       "      <td>3</td>\n",
       "      <td>m grab minute post feel greedy wrong</td>\n",
       "    </tr>\n",
       "    <tr>\n",
       "      <th>3</th>\n",
       "      <td>i am ever feeling nostalgic about the fireplac...</td>\n",
       "      <td>love</td>\n",
       "      <td>5</td>\n",
       "      <td>feel nostalgic fireplace know property</td>\n",
       "    </tr>\n",
       "    <tr>\n",
       "      <th>4</th>\n",
       "      <td>i am feeling grouchy</td>\n",
       "      <td>anger</td>\n",
       "      <td>3</td>\n",
       "      <td>feel grouchy</td>\n",
       "    </tr>\n",
       "  </tbody>\n",
       "</table>\n",
       "</div>"
      ],
      "text/plain": [
       "                                                text  emotion  sentiment  \\\n",
       "0                            i didnt feel humiliated  sadness          2   \n",
       "1  i can go from feeling so hopeless to so damned...  sadness          2   \n",
       "2   im grabbing a minute to post i feel greedy wrong    anger          3   \n",
       "3  i am ever feeling nostalgic about the fireplac...     love          5   \n",
       "4                               i am feeling grouchy    anger          3   \n",
       "\n",
       "                         preprocessed_text  \n",
       "0                       not feel humiliate  \n",
       "1  feel hopeless damned hopeful care awake  \n",
       "2     m grab minute post feel greedy wrong  \n",
       "3   feel nostalgic fireplace know property  \n",
       "4                             feel grouchy  "
      ]
     },
     "execution_count": 6,
     "metadata": {},
     "output_type": "execute_result"
    }
   ],
   "source": [
    "df['preprocessed_text'] = df.text.apply(preprocess)\n",
    "df.head()"
   ]
  },
  {
   "cell_type": "markdown",
   "id": "4d831c80",
   "metadata": {
    "papermill": {
     "duration": 0.006085,
     "end_time": "2024-08-07T07:10:38.623434",
     "exception": false,
     "start_time": "2024-08-07T07:10:38.617349",
     "status": "completed"
    },
    "tags": []
   },
   "source": [
    "## ML Pipeline"
   ]
  },
  {
   "cell_type": "code",
   "execution_count": 7,
   "id": "0682df1b",
   "metadata": {
    "execution": {
     "iopub.execute_input": "2024-08-07T07:10:38.638051Z",
     "iopub.status.busy": "2024-08-07T07:10:38.637672Z",
     "iopub.status.idle": "2024-08-07T07:10:38.647836Z",
     "shell.execute_reply": "2024-08-07T07:10:38.646960Z"
    },
    "papermill": {
     "duration": 0.019989,
     "end_time": "2024-08-07T07:10:38.649955",
     "exception": false,
     "start_time": "2024-08-07T07:10:38.629966",
     "status": "completed"
    },
    "tags": []
   },
   "outputs": [],
   "source": [
    "X = df.preprocessed_text\n",
    "y = df.sentiment\n",
    "\n",
    "X_train, X_test, y_train, y_test = train_test_split(X, y, test_size=0.2, random_state=42)"
   ]
  },
  {
   "cell_type": "code",
   "execution_count": 8,
   "id": "5fb00304",
   "metadata": {
    "execution": {
     "iopub.execute_input": "2024-08-07T07:10:38.665754Z",
     "iopub.status.busy": "2024-08-07T07:10:38.665057Z",
     "iopub.status.idle": "2024-08-07T07:11:38.740834Z",
     "shell.execute_reply": "2024-08-07T07:11:38.739725Z"
    },
    "papermill": {
     "duration": 60.093354,
     "end_time": "2024-08-07T07:11:38.749833",
     "exception": false,
     "start_time": "2024-08-07T07:10:38.656479",
     "status": "completed"
    },
    "tags": []
   },
   "outputs": [
    {
     "name": "stdout",
     "output_type": "stream",
     "text": [
      "              precision    recall  f1-score   support\n",
      "\n",
      "           1       0.88      0.92      0.90      1021\n",
      "           2       0.88      0.93      0.90       946\n",
      "           3       0.87      0.85      0.86       427\n",
      "           4       0.90      0.79      0.84       397\n",
      "           5       0.83      0.71      0.77       296\n",
      "           6       0.75      0.73      0.74       113\n",
      "\n",
      "    accuracy                           0.87      3200\n",
      "   macro avg       0.85      0.82      0.83      3200\n",
      "weighted avg       0.87      0.87      0.87      3200\n",
      "\n"
     ]
    }
   ],
   "source": [
    "pipe1 = Pipeline([\n",
    "    ('vectorizer_uni_bi', CountVectorizer(ngram_range = (1, 2))),\n",
    "    ('randomForest', RandomForestClassifier())\n",
    "])\n",
    "pipe1.fit(X_train, y_train)\n",
    "y_pred = pipe1.predict(X_test)\n",
    "print(classification_report(y_test, y_pred))"
   ]
  },
  {
   "cell_type": "code",
   "execution_count": 9,
   "id": "06ae6aff",
   "metadata": {
    "execution": {
     "iopub.execute_input": "2024-08-07T07:11:38.764697Z",
     "iopub.status.busy": "2024-08-07T07:11:38.764304Z",
     "iopub.status.idle": "2024-08-07T07:11:57.200942Z",
     "shell.execute_reply": "2024-08-07T07:11:57.199776Z"
    },
    "papermill": {
     "duration": 18.447019,
     "end_time": "2024-08-07T07:11:57.203335",
     "exception": false,
     "start_time": "2024-08-07T07:11:38.756316",
     "status": "completed"
    },
    "tags": []
   },
   "outputs": [
    {
     "name": "stdout",
     "output_type": "stream",
     "text": [
      "              precision    recall  f1-score   support\n",
      "\n",
      "           1       0.82      0.92      0.87      1021\n",
      "           2       0.91      0.88      0.90       946\n",
      "           3       0.85      0.84      0.84       427\n",
      "           4       0.85      0.82      0.84       397\n",
      "           5       0.81      0.64      0.71       296\n",
      "           6       0.78      0.67      0.72       113\n",
      "\n",
      "    accuracy                           0.85      3200\n",
      "   macro avg       0.84      0.80      0.81      3200\n",
      "weighted avg       0.85      0.85      0.85      3200\n",
      "\n"
     ]
    }
   ],
   "source": [
    "pipe2 = Pipeline([\n",
    "    ('tfidf', TfidfVectorizer()),\n",
    "    ('randomForest', RandomForestClassifier())\n",
    "])\n",
    "pipe2.fit(X_train, y_train)\n",
    "y_pred = pipe2.predict(X_test)\n",
    "print(classification_report(y_test, y_pred))"
   ]
  },
  {
   "cell_type": "code",
   "execution_count": 10,
   "id": "af7695ab",
   "metadata": {
    "execution": {
     "iopub.execute_input": "2024-08-07T07:11:57.218392Z",
     "iopub.status.busy": "2024-08-07T07:11:57.217990Z",
     "iopub.status.idle": "2024-08-07T07:11:57.412530Z",
     "shell.execute_reply": "2024-08-07T07:11:57.411163Z"
    },
    "papermill": {
     "duration": 0.205079,
     "end_time": "2024-08-07T07:11:57.415130",
     "exception": false,
     "start_time": "2024-08-07T07:11:57.210051",
     "status": "completed"
    },
    "tags": []
   },
   "outputs": [],
   "source": [
    "vectorizer = TfidfVectorizer()\n",
    "X_vec = vectorizer.fit_transform(X)"
   ]
  },
  {
   "cell_type": "code",
   "execution_count": 11,
   "id": "916c2de5",
   "metadata": {
    "execution": {
     "iopub.execute_input": "2024-08-07T07:11:57.430356Z",
     "iopub.status.busy": "2024-08-07T07:11:57.429926Z",
     "iopub.status.idle": "2024-08-07T07:12:00.064786Z",
     "shell.execute_reply": "2024-08-07T07:12:00.063728Z"
    },
    "papermill": {
     "duration": 2.645223,
     "end_time": "2024-08-07T07:12:00.067201",
     "exception": false,
     "start_time": "2024-08-07T07:11:57.421978",
     "status": "completed"
    },
    "tags": []
   },
   "outputs": [
    {
     "data": {
      "text/plain": [
       "sentiment\n",
       "2    5362\n",
       "3    5362\n",
       "5    5362\n",
       "6    5362\n",
       "4    5362\n",
       "1    5362\n",
       "Name: count, dtype: int64"
      ]
     },
     "execution_count": 11,
     "metadata": {},
     "output_type": "execute_result"
    }
   ],
   "source": [
    "from imblearn.over_sampling import SMOTE\n",
    "\n",
    "smote = SMOTE(sampling_strategy='all')\n",
    "X_sm, y_sm = smote.fit_resample(X_vec, y)\n",
    "\n",
    "y_sm.value_counts()"
   ]
  },
  {
   "cell_type": "code",
   "execution_count": 12,
   "id": "957aed19",
   "metadata": {
    "execution": {
     "iopub.execute_input": "2024-08-07T07:12:00.083358Z",
     "iopub.status.busy": "2024-08-07T07:12:00.082248Z",
     "iopub.status.idle": "2024-08-07T07:12:59.947641Z",
     "shell.execute_reply": "2024-08-07T07:12:59.946289Z"
    },
    "papermill": {
     "duration": 59.881995,
     "end_time": "2024-08-07T07:12:59.956225",
     "exception": false,
     "start_time": "2024-08-07T07:12:00.074230",
     "status": "completed"
    },
    "tags": []
   },
   "outputs": [
    {
     "name": "stdout",
     "output_type": "stream",
     "text": [
      "              precision    recall  f1-score   support\n",
      "\n",
      "           1       0.86      0.88      0.87      1078\n",
      "           2       0.95      0.85      0.90      1087\n",
      "           3       0.94      0.96      0.95      1054\n",
      "           4       0.96      0.95      0.95      1051\n",
      "           5       0.93      0.97      0.95      1092\n",
      "           6       0.97      1.00      0.98      1073\n",
      "\n",
      "    accuracy                           0.93      6435\n",
      "   macro avg       0.93      0.93      0.93      6435\n",
      "weighted avg       0.93      0.93      0.93      6435\n",
      "\n"
     ]
    }
   ],
   "source": [
    "X_train, X_test, y_train, y_test = train_test_split(X_sm, y_sm, test_size=0.2, random_state=42)\n",
    "\n",
    "classifier = RandomForestClassifier(random_state=42)\n",
    "classifier.fit(X_train, y_train)\n",
    "\n",
    "y_pred = classifier.predict(X_test)\n",
    "print(classification_report(y_test, y_pred))"
   ]
  },
  {
   "cell_type": "markdown",
   "id": "5d6b7b85",
   "metadata": {
    "papermill": {
     "duration": 0.006546,
     "end_time": "2024-08-07T07:12:59.969638",
     "exception": false,
     "start_time": "2024-08-07T07:12:59.963092",
     "status": "completed"
    },
    "tags": []
   },
   "source": [
    "## Final Training"
   ]
  },
  {
   "cell_type": "code",
   "execution_count": 13,
   "id": "a1396f21",
   "metadata": {
    "execution": {
     "iopub.execute_input": "2024-08-07T07:12:59.985422Z",
     "iopub.status.busy": "2024-08-07T07:12:59.985021Z",
     "iopub.status.idle": "2024-08-07T07:14:33.541681Z",
     "shell.execute_reply": "2024-08-07T07:14:33.540498Z"
    },
    "papermill": {
     "duration": 93.574714,
     "end_time": "2024-08-07T07:14:33.551213",
     "exception": false,
     "start_time": "2024-08-07T07:12:59.976499",
     "status": "completed"
    },
    "tags": []
   },
   "outputs": [
    {
     "data": {
      "text/html": [
       "<style>#sk-container-id-1 {color: black;background-color: white;}#sk-container-id-1 pre{padding: 0;}#sk-container-id-1 div.sk-toggleable {background-color: white;}#sk-container-id-1 label.sk-toggleable__label {cursor: pointer;display: block;width: 100%;margin-bottom: 0;padding: 0.3em;box-sizing: border-box;text-align: center;}#sk-container-id-1 label.sk-toggleable__label-arrow:before {content: \"▸\";float: left;margin-right: 0.25em;color: #696969;}#sk-container-id-1 label.sk-toggleable__label-arrow:hover:before {color: black;}#sk-container-id-1 div.sk-estimator:hover label.sk-toggleable__label-arrow:before {color: black;}#sk-container-id-1 div.sk-toggleable__content {max-height: 0;max-width: 0;overflow: hidden;text-align: left;background-color: #f0f8ff;}#sk-container-id-1 div.sk-toggleable__content pre {margin: 0.2em;color: black;border-radius: 0.25em;background-color: #f0f8ff;}#sk-container-id-1 input.sk-toggleable__control:checked~div.sk-toggleable__content {max-height: 200px;max-width: 100%;overflow: auto;}#sk-container-id-1 input.sk-toggleable__control:checked~label.sk-toggleable__label-arrow:before {content: \"▾\";}#sk-container-id-1 div.sk-estimator input.sk-toggleable__control:checked~label.sk-toggleable__label {background-color: #d4ebff;}#sk-container-id-1 div.sk-label input.sk-toggleable__control:checked~label.sk-toggleable__label {background-color: #d4ebff;}#sk-container-id-1 input.sk-hidden--visually {border: 0;clip: rect(1px 1px 1px 1px);clip: rect(1px, 1px, 1px, 1px);height: 1px;margin: -1px;overflow: hidden;padding: 0;position: absolute;width: 1px;}#sk-container-id-1 div.sk-estimator {font-family: monospace;background-color: #f0f8ff;border: 1px dotted black;border-radius: 0.25em;box-sizing: border-box;margin-bottom: 0.5em;}#sk-container-id-1 div.sk-estimator:hover {background-color: #d4ebff;}#sk-container-id-1 div.sk-parallel-item::after {content: \"\";width: 100%;border-bottom: 1px solid gray;flex-grow: 1;}#sk-container-id-1 div.sk-label:hover label.sk-toggleable__label {background-color: #d4ebff;}#sk-container-id-1 div.sk-serial::before {content: \"\";position: absolute;border-left: 1px solid gray;box-sizing: border-box;top: 0;bottom: 0;left: 50%;z-index: 0;}#sk-container-id-1 div.sk-serial {display: flex;flex-direction: column;align-items: center;background-color: white;padding-right: 0.2em;padding-left: 0.2em;position: relative;}#sk-container-id-1 div.sk-item {position: relative;z-index: 1;}#sk-container-id-1 div.sk-parallel {display: flex;align-items: stretch;justify-content: center;background-color: white;position: relative;}#sk-container-id-1 div.sk-item::before, #sk-container-id-1 div.sk-parallel-item::before {content: \"\";position: absolute;border-left: 1px solid gray;box-sizing: border-box;top: 0;bottom: 0;left: 50%;z-index: -1;}#sk-container-id-1 div.sk-parallel-item {display: flex;flex-direction: column;z-index: 1;position: relative;background-color: white;}#sk-container-id-1 div.sk-parallel-item:first-child::after {align-self: flex-end;width: 50%;}#sk-container-id-1 div.sk-parallel-item:last-child::after {align-self: flex-start;width: 50%;}#sk-container-id-1 div.sk-parallel-item:only-child::after {width: 0;}#sk-container-id-1 div.sk-dashed-wrapped {border: 1px dashed gray;margin: 0 0.4em 0.5em 0.4em;box-sizing: border-box;padding-bottom: 0.4em;background-color: white;}#sk-container-id-1 div.sk-label label {font-family: monospace;font-weight: bold;display: inline-block;line-height: 1.2em;}#sk-container-id-1 div.sk-label-container {text-align: center;}#sk-container-id-1 div.sk-container {/* jupyter's `normalize.less` sets `[hidden] { display: none; }` but bootstrap.min.css set `[hidden] { display: none !important; }` so we also need the `!important` here to be able to override the default hidden behavior on the sphinx rendered scikit-learn.org. See: https://github.com/scikit-learn/scikit-learn/issues/21755 */display: inline-block !important;position: relative;}#sk-container-id-1 div.sk-text-repr-fallback {display: none;}</style><div id=\"sk-container-id-1\" class=\"sk-top-container\"><div class=\"sk-text-repr-fallback\"><pre>Pipeline(steps=[(&#x27;vectorizer_uni_bi&#x27;, CountVectorizer(ngram_range=(1, 2))),\n",
       "                (&#x27;randomForest&#x27;, RandomForestClassifier())])</pre><b>In a Jupyter environment, please rerun this cell to show the HTML representation or trust the notebook. <br />On GitHub, the HTML representation is unable to render, please try loading this page with nbviewer.org.</b></div><div class=\"sk-container\" hidden><div class=\"sk-item sk-dashed-wrapped\"><div class=\"sk-label-container\"><div class=\"sk-label sk-toggleable\"><input class=\"sk-toggleable__control sk-hidden--visually\" id=\"sk-estimator-id-1\" type=\"checkbox\" ><label for=\"sk-estimator-id-1\" class=\"sk-toggleable__label sk-toggleable__label-arrow\">Pipeline</label><div class=\"sk-toggleable__content\"><pre>Pipeline(steps=[(&#x27;vectorizer_uni_bi&#x27;, CountVectorizer(ngram_range=(1, 2))),\n",
       "                (&#x27;randomForest&#x27;, RandomForestClassifier())])</pre></div></div></div><div class=\"sk-serial\"><div class=\"sk-item\"><div class=\"sk-estimator sk-toggleable\"><input class=\"sk-toggleable__control sk-hidden--visually\" id=\"sk-estimator-id-2\" type=\"checkbox\" ><label for=\"sk-estimator-id-2\" class=\"sk-toggleable__label sk-toggleable__label-arrow\">CountVectorizer</label><div class=\"sk-toggleable__content\"><pre>CountVectorizer(ngram_range=(1, 2))</pre></div></div></div><div class=\"sk-item\"><div class=\"sk-estimator sk-toggleable\"><input class=\"sk-toggleable__control sk-hidden--visually\" id=\"sk-estimator-id-3\" type=\"checkbox\" ><label for=\"sk-estimator-id-3\" class=\"sk-toggleable__label sk-toggleable__label-arrow\">RandomForestClassifier</label><div class=\"sk-toggleable__content\"><pre>RandomForestClassifier()</pre></div></div></div></div></div></div></div>"
      ],
      "text/plain": [
       "Pipeline(steps=[('vectorizer_uni_bi', CountVectorizer(ngram_range=(1, 2))),\n",
       "                ('randomForest', RandomForestClassifier())])"
      ]
     },
     "execution_count": 13,
     "metadata": {},
     "output_type": "execute_result"
    }
   ],
   "source": [
    "pipe1 = Pipeline([\n",
    "    ('vectorizer_uni_bi', CountVectorizer(ngram_range = (1, 2))),\n",
    "    ('randomForest', RandomForestClassifier())\n",
    "])\n",
    "pipe1.fit(X, y)"
   ]
  },
  {
   "cell_type": "markdown",
   "id": "b3fc8d6c",
   "metadata": {
    "papermill": {
     "duration": 0.008865,
     "end_time": "2024-08-07T07:14:33.568807",
     "exception": false,
     "start_time": "2024-08-07T07:14:33.559942",
     "status": "completed"
    },
    "tags": []
   },
   "source": [
    "## Testing"
   ]
  },
  {
   "cell_type": "markdown",
   "id": "8ccd006a",
   "metadata": {
    "papermill": {
     "duration": 0.008355,
     "end_time": "2024-08-07T07:14:33.586685",
     "exception": false,
     "start_time": "2024-08-07T07:14:33.578330",
     "status": "completed"
    },
    "tags": []
   },
   "source": [
    "Getting the Test Data"
   ]
  },
  {
   "cell_type": "code",
   "execution_count": 14,
   "id": "4360ea51",
   "metadata": {
    "execution": {
     "iopub.execute_input": "2024-08-07T07:14:33.610573Z",
     "iopub.status.busy": "2024-08-07T07:14:33.609777Z",
     "iopub.status.idle": "2024-08-07T07:14:50.490802Z",
     "shell.execute_reply": "2024-08-07T07:14:50.489587Z"
    },
    "papermill": {
     "duration": 16.895969,
     "end_time": "2024-08-07T07:14:50.493624",
     "exception": false,
     "start_time": "2024-08-07T07:14:33.597655",
     "status": "completed"
    },
    "tags": []
   },
   "outputs": [
    {
     "data": {
      "text/html": [
       "<div>\n",
       "<style scoped>\n",
       "    .dataframe tbody tr th:only-of-type {\n",
       "        vertical-align: middle;\n",
       "    }\n",
       "\n",
       "    .dataframe tbody tr th {\n",
       "        vertical-align: top;\n",
       "    }\n",
       "\n",
       "    .dataframe thead th {\n",
       "        text-align: right;\n",
       "    }\n",
       "</style>\n",
       "<table border=\"1\" class=\"dataframe\">\n",
       "  <thead>\n",
       "    <tr style=\"text-align: right;\">\n",
       "      <th></th>\n",
       "      <th>text</th>\n",
       "      <th>emotion</th>\n",
       "      <th>sentiment</th>\n",
       "      <th>preprocessed_text</th>\n",
       "    </tr>\n",
       "  </thead>\n",
       "  <tbody>\n",
       "    <tr>\n",
       "      <th>0</th>\n",
       "      <td>im feeling rather rotten so im not very ambiti...</td>\n",
       "      <td>sadness</td>\n",
       "      <td>2</td>\n",
       "      <td>m feel rotten m ambitious right</td>\n",
       "    </tr>\n",
       "    <tr>\n",
       "      <th>1</th>\n",
       "      <td>im updating my blog because i feel shitty</td>\n",
       "      <td>sadness</td>\n",
       "      <td>2</td>\n",
       "      <td>m update blog feel shitty</td>\n",
       "    </tr>\n",
       "    <tr>\n",
       "      <th>2</th>\n",
       "      <td>i never make her separate from me because i do...</td>\n",
       "      <td>sadness</td>\n",
       "      <td>2</td>\n",
       "      <td>separate don t want feel like m ashamed</td>\n",
       "    </tr>\n",
       "    <tr>\n",
       "      <th>3</th>\n",
       "      <td>i left with my bouquet of red and yellow tulip...</td>\n",
       "      <td>joy</td>\n",
       "      <td>1</td>\n",
       "      <td>leave bouquet red yellow tulip arm feel slight...</td>\n",
       "    </tr>\n",
       "    <tr>\n",
       "      <th>4</th>\n",
       "      <td>i was feeling a little vain when i did this one</td>\n",
       "      <td>sadness</td>\n",
       "      <td>2</td>\n",
       "      <td>feel little vain</td>\n",
       "    </tr>\n",
       "  </tbody>\n",
       "</table>\n",
       "</div>"
      ],
      "text/plain": [
       "                                                text  emotion  sentiment  \\\n",
       "0  im feeling rather rotten so im not very ambiti...  sadness          2   \n",
       "1          im updating my blog because i feel shitty  sadness          2   \n",
       "2  i never make her separate from me because i do...  sadness          2   \n",
       "3  i left with my bouquet of red and yellow tulip...      joy          1   \n",
       "4    i was feeling a little vain when i did this one  sadness          2   \n",
       "\n",
       "                                   preprocessed_text  \n",
       "0                    m feel rotten m ambitious right  \n",
       "1                          m update blog feel shitty  \n",
       "2            separate don t want feel like m ashamed  \n",
       "3  leave bouquet red yellow tulip arm feel slight...  \n",
       "4                                   feel little vain  "
      ]
     },
     "execution_count": 14,
     "metadata": {},
     "output_type": "execute_result"
    }
   ],
   "source": [
    "df_test = pd.read_csv('/kaggle/input/emotions-dataset-for-nlp/test.txt', sep = ';', header=None)\n",
    "df_test.columns = ['text', 'emotion']\n",
    "df_test['sentiment'] = df_test.emotion.map({'joy':1, 'sadness':2, 'anger':3, 'fear':4, 'love':5, 'surprise':6})\n",
    "df_test['preprocessed_text'] = df_test.text.apply(preprocess)\n",
    "df_test.head()"
   ]
  },
  {
   "cell_type": "code",
   "execution_count": 15,
   "id": "3f5a384f",
   "metadata": {
    "execution": {
     "iopub.execute_input": "2024-08-07T07:14:50.511061Z",
     "iopub.status.busy": "2024-08-07T07:14:50.510679Z",
     "iopub.status.idle": "2024-08-07T07:14:50.859706Z",
     "shell.execute_reply": "2024-08-07T07:14:50.858334Z"
    },
    "papermill": {
     "duration": 0.360542,
     "end_time": "2024-08-07T07:14:50.862207",
     "exception": false,
     "start_time": "2024-08-07T07:14:50.501665",
     "status": "completed"
    },
    "tags": []
   },
   "outputs": [
    {
     "name": "stdout",
     "output_type": "stream",
     "text": [
      "              precision    recall  f1-score   support\n",
      "\n",
      "           1       0.88      0.92      0.90       695\n",
      "           2       0.89      0.94      0.91       581\n",
      "           3       0.88      0.85      0.87       275\n",
      "           4       0.90      0.83      0.86       224\n",
      "           5       0.75      0.65      0.70       159\n",
      "           6       0.73      0.61      0.66        66\n",
      "\n",
      "    accuracy                           0.87      2000\n",
      "   macro avg       0.84      0.80      0.82      2000\n",
      "weighted avg       0.87      0.87      0.87      2000\n",
      "\n"
     ]
    }
   ],
   "source": [
    "y_pred = pipe1.predict(df_test['preprocessed_text'])\n",
    "print(classification_report(df_test['sentiment'], y_pred))"
   ]
  },
  {
   "cell_type": "code",
   "execution_count": 16,
   "id": "e0c49ae3",
   "metadata": {
    "execution": {
     "iopub.execute_input": "2024-08-07T07:14:50.879252Z",
     "iopub.status.busy": "2024-08-07T07:14:50.878842Z",
     "iopub.status.idle": "2024-08-07T07:14:51.653795Z",
     "shell.execute_reply": "2024-08-07T07:14:51.652734Z"
    },
    "papermill": {
     "duration": 0.786477,
     "end_time": "2024-08-07T07:14:51.656350",
     "exception": false,
     "start_time": "2024-08-07T07:14:50.869873",
     "status": "completed"
    },
    "tags": []
   },
   "outputs": [
    {
     "data": {
      "text/plain": [
       "<Axes: >"
      ]
     },
     "execution_count": 16,
     "metadata": {},
     "output_type": "execute_result"
    },
    {
     "data": {
      "image/png": "[encoded data removed]",
      "text/plain": [
       "<Figure size 800x600 with 2 Axes>"
      ]
     },
     "metadata": {},
     "output_type": "display_data"
    }
   ],
   "source": [
    "import matplotlib.pyplot as plt\n",
    "import seaborn as sns\n",
    "from sklearn.metrics import  confusion_matrix\n",
    "plt.figure(figsize=(8,6))\n",
    "emotions = {'joy':1, 'sadness':2, 'anger':3, 'fear':4, 'love':5, 'surprise':6}\n",
    "emotions = list(emotions.keys())\n",
    "cm = confusion_matrix(df_test['sentiment'], y_pred)\n",
    "sns.heatmap(cm, annot=True, fmt='d', cmap='Blues', xticklabels=emotions, yticklabels=emotions)"
   ]
  },
  {
   "cell_type": "markdown",
   "id": "3aab9993",
   "metadata": {
    "papermill": {
     "duration": 0.007866,
     "end_time": "2024-08-07T07:14:51.672568",
     "exception": false,
     "start_time": "2024-08-07T07:14:51.664702",
     "status": "completed"
    },
    "tags": []
   },
   "source": [
    "## Saving the model"
   ]
  },
  {
   "cell_type": "code",
   "execution_count": 17,
   "id": "fa8669cb",
   "metadata": {
    "execution": {
     "iopub.execute_input": "2024-08-07T07:14:51.690780Z",
     "iopub.status.busy": "2024-08-07T07:14:51.690185Z",
     "iopub.status.idle": "2024-08-07T07:14:51.900894Z",
     "shell.execute_reply": "2024-08-07T07:14:51.899742Z"
    },
    "papermill": {
     "duration": 0.222836,
     "end_time": "2024-08-07T07:14:51.903486",
     "exception": false,
     "start_time": "2024-08-07T07:14:51.680650",
     "status": "completed"
    },
    "tags": []
   },
   "outputs": [],
   "source": [
    "import pickle\n",
    "pickle.dump(pipe1, open('model.pkl','wb'))"
   ]
  },
  {
   "cell_type": "markdown",
   "id": "391613c6",
   "metadata": {
    "papermill": {
     "duration": 0.007908,
     "end_time": "2024-08-07T07:14:51.919910",
     "exception": false,
     "start_time": "2024-08-07T07:14:51.912002",
     "status": "completed"
    },
    "tags": []
   },
   "source": [
    "## Validation Check"
   ]
  },
  {
   "cell_type": "code",
   "execution_count": 18,
   "id": "0a723fdd",
   "metadata": {
    "execution": {
     "iopub.execute_input": "2024-08-07T07:14:51.938665Z",
     "iopub.status.busy": "2024-08-07T07:14:51.937794Z",
     "iopub.status.idle": "2024-08-07T07:14:52.132014Z",
     "shell.execute_reply": "2024-08-07T07:14:52.130750Z"
    },
    "papermill": {
     "duration": 0.206504,
     "end_time": "2024-08-07T07:14:52.134671",
     "exception": false,
     "start_time": "2024-08-07T07:14:51.928167",
     "status": "completed"
    },
    "tags": []
   },
   "outputs": [],
   "source": [
    "model = pickle.load(open('model.pkl','rb'))"
   ]
  },
  {
   "cell_type": "code",
   "execution_count": 19,
   "id": "da573688",
   "metadata": {
    "execution": {
     "iopub.execute_input": "2024-08-07T07:14:52.153550Z",
     "iopub.status.busy": "2024-08-07T07:14:52.152611Z",
     "iopub.status.idle": "2024-08-07T07:15:09.895620Z",
     "shell.execute_reply": "2024-08-07T07:15:09.894528Z"
    },
    "papermill": {
     "duration": 17.75493,
     "end_time": "2024-08-07T07:15:09.898012",
     "exception": false,
     "start_time": "2024-08-07T07:14:52.143082",
     "status": "completed"
    },
    "tags": []
   },
   "outputs": [
    {
     "name": "stdout",
     "output_type": "stream",
     "text": [
      "              precision    recall  f1-score   support\n",
      "\n",
      "           1       0.92      0.91      0.92       704\n",
      "           2       0.87      0.96      0.91       550\n",
      "           3       0.89      0.88      0.89       275\n",
      "           4       0.91      0.79      0.85       212\n",
      "           5       0.84      0.74      0.79       178\n",
      "           6       0.81      0.74      0.77        81\n",
      "\n",
      "    accuracy                           0.89      2000\n",
      "   macro avg       0.87      0.84      0.85      2000\n",
      "weighted avg       0.89      0.89      0.89      2000\n",
      "\n"
     ]
    },
    {
     "data": {
      "text/plain": [
       "<Axes: >"
      ]
     },
     "execution_count": 19,
     "metadata": {},
     "output_type": "execute_result"
    },
    {
     "data": {
      "image/png": "[encoded data removed]",
      "text/plain": [
       "<Figure size 800x600 with 2 Axes>"
      ]
     },
     "metadata": {},
     "output_type": "display_data"
    }
   ],
   "source": [
    "df_val = pd.read_csv('/kaggle/input/emotions-dataset-for-nlp/val.txt', sep = ';', header=None)\n",
    "df_val.columns = ['text', 'emotion']\n",
    "df_val['sentiment'] = df_val.emotion.map({'joy':1, 'sadness':2, 'anger':3, 'fear':4, 'love':5, 'surprise':6})\n",
    "df_val['preprocessed_text'] = df_val.text.apply(preprocess)\n",
    "\n",
    "y_pred = model.predict(df_val['preprocessed_text'])\n",
    "print(classification_report(df_val['sentiment'], y_pred))\n",
    "\n",
    "import matplotlib.pyplot as plt\n",
    "import seaborn as sns\n",
    "from sklearn.metrics import  confusion_matrix\n",
    "plt.figure(figsize=(8,6))\n",
    "emotions = {'joy':1, 'sadness':2, 'anger':3, 'fear':4, 'love':5, 'surprise':6}\n",
    "emotions = list(emotions.keys())\n",
    "cm = confusion_matrix(df_val['sentiment'], y_pred)\n",
    "sns.heatmap(cm, annot=True, fmt='d', cmap='Blues', xticklabels=emotions, yticklabels=emotions)"
   ]
  }
 ],
 "metadata": {
  "kaggle": {
   "accelerator": "none",
   "dataSources": [
    {
     "datasetId": 605165,
     "sourceId": 1085454,
     "sourceType": "datasetVersion"
    }
   ],
   "dockerImageVersionId": 30746,
   "isGpuEnabled": false,
   "isInternetEnabled": true,
   "language": "python",
   "sourceType": "notebook"
  },
  "kernelspec": {
   "display_name": "Python 3",
   "language": "python",
   "name": "python3"
  },
  "language_info": {
   "codemirror_mode": {
    "name": "ipython",
    "version": 3
   },
   "file_extension": ".py",
   "mimetype": "text/x-python",
   "name": "python",
   "nbconvert_exporter": "python",
   "pygments_lexer": "ipython3",
   "version": "3.10.13"
  },
  "papermill": {
   "default_parameters": {},
   "duration": 416.391517,
   "end_time": "2024-08-07T07:15:11.332393",
   "environment_variables": {},
   "exception": null,
   "input_path": "__notebook__.ipynb",
   "output_path": "__notebook__.ipynb",
   "parameters": {},
   "start_time": "2024-08-07T07:08:14.940876",
   "version": "2.5.0"
  }
 },
 "nbformat": 4,
 "nbformat_minor": 5
}
